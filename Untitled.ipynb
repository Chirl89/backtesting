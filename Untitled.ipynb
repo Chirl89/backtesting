{
 "cells": [
  {
   "cell_type": "code",
   "execution_count": 20,
   "id": "5b61a9d3-a92c-4c21-99ee-8db36d82587d",
   "metadata": {},
   "outputs": [],
   "source": [
    "from lib.dicts.index import Index\n",
    "from lib.data.data import DataImporter, DataExporter\n",
    "from lib.data.data_parser import ProcessData\n",
    "from lib.forecast.forecast import *\n",
    "from lib.backtest.backtest import BacktestManager"
   ]
  },
  {
   "cell_type": "code",
   "execution_count": 21,
   "id": "0cd10941-7aaf-42ab-bd95-d823aba54be2",
   "metadata": {},
   "outputs": [],
   "source": [
    "indexes = ['SAN.MC', 'BBVA.MC', 'SAB.MC', '^IBEX', 'BBVAE.MC', 'XTC5.MI', 'EURUSD=X']\n",
    "input_method = 'yf'\n",
    "start_get_data = '2021-09-18'\n",
    "end_get_data = '2024-09-18'\n",
    "start_calculation_date = '2023-09-18'\n",
    "end_calculation_date = '2024-09-18'\n",
    "confidence_level = 0.99\n",
    "horizons = [1, 10]"
   ]
  },
  {
   "cell_type": "code",
   "execution_count": 22,
   "id": "54f850b4-e8fd-48b8-bee2-204cd58e1d05",
   "metadata": {},
   "outputs": [],
   "source": [
    "index_instance = Index(indexes)\n",
    "data_instance = DataImporter(indexes, start_get_data, end_get_data, input_method)\n",
    "process_data_instance = ProcessData(index_instance, data_instance)\n",
    "\n",
    "process_data_instance.fill_index_dict(\n",
    "    confidence_level,\n",
    "    start_calculation_date,\n",
    "    end_calculation_date\n",
    ")\n",
    "\n",
    "data_dict = index_instance.get_index_dict()"
   ]
  },
  {
   "cell_type": "code",
   "execution_count": 23,
   "id": "b782fb91-5138-407a-8b45-03d669f6e42a",
   "metadata": {},
   "outputs": [
    {
     "name": "stdout",
     "output_type": "stream",
     "text": [
      "SAN.MC\n",
      "(-0.04895693065271983, 3)\n",
      "BBVA.MC\n",
      "(-0.06349559269001685, 3)\n",
      "SAB.MC\n",
      "(-0.05743783878168818, 3)\n",
      "^IBEX\n",
      "(-0.021775604006954653, 3)\n",
      "BBVAE.MC\n",
      "(-0.02441888597390508, 3)\n",
      "XTC5.MI\n",
      "(-0.01910149554005386, 3)\n",
      "EURUSD=X\n",
      "(-0.010178313125314982, 3)\n"
     ]
    }
   ],
   "source": [
    "for index, content in data_dict.items():\n",
    "    print(index)\n",
    "    print(content['ES Real'])"
   ]
  },
  {
   "cell_type": "code",
   "execution_count": null,
   "id": "9bd0d9da-254f-4853-94c9-029d9d53fb1e",
   "metadata": {},
   "outputs": [],
   "source": []
  }
 ],
 "metadata": {
  "kernelspec": {
   "display_name": "Python 3 (ipykernel)",
   "language": "python",
   "name": "python3"
  },
  "language_info": {
   "codemirror_mode": {
    "name": "ipython",
    "version": 3
   },
   "file_extension": ".py",
   "mimetype": "text/x-python",
   "name": "python",
   "nbconvert_exporter": "python",
   "pygments_lexer": "ipython3",
   "version": "3.10.14"
  }
 },
 "nbformat": 4,
 "nbformat_minor": 5
}
