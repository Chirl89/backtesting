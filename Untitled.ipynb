{
 "cells": [
  {
   "cell_type": "code",
   "execution_count": 1,
   "id": "9bd0d9da-254f-4853-94c9-029d9d53fb1e",
   "metadata": {},
   "outputs": [],
   "source": [
    "import time\n",
    "from lib.dicts.index import Index\n",
    "from lib.data.data_import_export import DataImporter, DataExporter\n",
    "from lib.data.data_parser import ProcessData\n",
    "from lib.forecast.roll_forecast import *\n",
    "from lib.backtest.backtest import BacktestManager"
   ]
  },
  {
   "cell_type": "code",
   "execution_count": 2,
   "id": "5e830435-3294-44fc-8192-52c6343446ff",
   "metadata": {},
   "outputs": [],
   "source": [
    "indexes = ['SAN.MC', 'BBVA.MC']#, 'SAB.MC', '^IBEX', 'BBVAE.MC', 'XTC5.MI', 'EURUSD=X']\n",
    "input_method = 'yf'\n",
    "start_get_data = '2021-09-17'\n",
    "end_get_data = '2024-09-17'\n",
    "start_calculation_date = '2023-09-17'\n",
    "end_calculation_date = '2024-09-17'\n",
    "confidence_level = 0.99\n",
    "horizons = [1, 10]"
   ]
  },
  {
   "cell_type": "code",
   "execution_count": 3,
   "id": "1e97fa78-db3b-4981-90e3-a883a815eebb",
   "metadata": {},
   "outputs": [],
   "source": [
    "index_instance = Index(indexes)\n",
    "data_instance = DataImporter(indexes, start_get_data, end_get_data, input_method)\n",
    "process_data_instance = ProcessData(index_instance, data_instance)"
   ]
  },
  {
   "cell_type": "code",
   "execution_count": 4,
   "id": "067e8980-2fde-4c5d-8ab5-eea8d72d67ec",
   "metadata": {},
   "outputs": [],
   "source": [
    "process_data_instance.fill_index_dict(\n",
    "    confidence_level,\n",
    "    start_calculation_date,\n",
    "    end_calculation_date\n",
    ")"
   ]
  },
  {
   "cell_type": "code",
   "execution_count": 5,
   "id": "b0f79074-7ce4-466b-b6d6-e1b58434b4dd",
   "metadata": {},
   "outputs": [],
   "source": [
    "data_dict = index_instance.get_index_dict()\n",
    "forecast_dict = index_instance.get_forecast_dict()"
   ]
  },
  {
   "cell_type": "code",
   "execution_count": 6,
   "id": "38400880-eacd-47aa-b442-e852d6293828",
   "metadata": {},
   "outputs": [
    {
     "name": "stdout",
     "output_type": "stream",
     "text": [
      "Progreso global forecasting: 100.00%"
     ]
    }
   ],
   "source": [
    "forecast_instance = Forecast(data_dict, forecast_dict, start_calculation_date, end_calculation_date, horizons)\n",
    "forecast_instance.run_single_forecast(method='perceptron')"
   ]
  },
  {
   "cell_type": "code",
   "execution_count": 7,
   "id": "f0eca265-d86f-4821-b4e8-5414eda522f5",
   "metadata": {},
   "outputs": [],
   "source": [
    "backtest_manager = BacktestManager(data_dict, forecast_dict, confidence_level)\n",
    "backtest_manager.run_backtest_multiquantile()\n",
    "backtest_manager.run_backtest_rige()\n",
    "backtest_manager.run_backtest_fisslerziegel()\n",
    "backtest_dict = backtest_manager.get_backtest_dict()"
   ]
  },
  {
   "cell_type": "code",
   "execution_count": 8,
   "id": "43f7d2ab-674f-447e-92b2-c112aeaafa6b",
   "metadata": {},
   "outputs": [
    {
     "name": "stdout",
     "output_type": "stream",
     "text": [
      "El archivo se ha guardado en: output\\backtest_results.xlsx\n"
     ]
    }
   ],
   "source": [
    "exporter = DataExporter(data_dict, forecast_dict, backtest_dict)\n",
    "exporter.export_to_excel()\n",
    "\n",
    "forecast_instance.clean_up_models()"
   ]
  },
  {
   "cell_type": "code",
   "execution_count": null,
   "id": "ba28f3a6-c10e-48e4-83ee-04bf5a42ffd7",
   "metadata": {},
   "outputs": [],
   "source": []
  }
 ],
 "metadata": {
  "kernelspec": {
   "display_name": "Python 3 (ipykernel)",
   "language": "python",
   "name": "python3"
  },
  "language_info": {
   "codemirror_mode": {
    "name": "ipython",
    "version": 3
   },
   "file_extension": ".py",
   "mimetype": "text/x-python",
   "name": "python",
   "nbconvert_exporter": "python",
   "pygments_lexer": "ipython3",
   "version": "3.10.14"
  }
 },
 "nbformat": 4,
 "nbformat_minor": 5
}
