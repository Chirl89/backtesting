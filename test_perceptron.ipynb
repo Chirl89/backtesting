{
 "cells": [
  {
   "cell_type": "code",
   "execution_count": 2,
   "id": "74aa75ed-b338-4a47-a02c-18c00b492ea3",
   "metadata": {},
   "outputs": [],
   "source": [
    "import os\n",
    "import sys\n",
    "import pandas as pd\n",
    "import yfinance as yf\n",
    "from lib.auxiliares.esReal import es_real\n",
    "from lib.auxiliares.VaR import var_vol\n",
    "from lib.auxiliares.ES import expected_shortfall\n",
    "from lib.auxiliares.simulateReturns import simulate_returns\n",
    "from lib.volatilidades.volatilities import *\n",
    "from lib.volatilidades.rolling_forecast import *\n",
    "from lib.backtest.RidgeBacktest import *"
   ]
  },
  {
   "cell_type": "code",
   "execution_count": 3,
   "id": "20c98a12-6f63-422c-ad6d-4465bf0823be",
   "metadata": {},
   "outputs": [],
   "source": [
    "confidence_level = 0.975\n",
    "indexes = ['SAN.MC', 'BBVA.MC', 'SAB.MC', '^IBEX', 'BBVAE.MC', 'XTC5.MI', 'EURUSD=X']\n",
    "first_historical_date = '2021-07-31'\n",
    "start_date = '2024-06-30'\n",
    "end_date = '2024-07-30'\n",
    "horizon = 1"
   ]
  },
  {
   "cell_type": "code",
   "execution_count": 4,
   "id": "904e5434-6394-4cec-a0b0-2cffb6e5195f",
   "metadata": {},
   "outputs": [],
   "source": [
    "data = yf.download(\"SAN.MC\", first_historical_date, end_date, progress=False)\n",
    "data['Log Returns'] = np.log(data['Adj Close'] / data['Adj Close'].shift(1))"
   ]
  },
  {
   "cell_type": "code",
   "execution_count": 5,
   "id": "c97a15b5-d0b2-4e98-ade1-703c6296fdeb",
   "metadata": {},
   "outputs": [
    {
     "data": {
      "text/plain": [
       "(-0.03261981095941505, 1)"
      ]
     },
     "execution_count": 5,
     "metadata": {},
     "output_type": "execute_result"
    }
   ],
   "source": [
    "es_real(data, confidence_level, start_date, end_date)"
   ]
  },
  {
   "cell_type": "code",
   "execution_count": 6,
   "id": "25096ccf-0bff-4b7f-9666-c78ba7c36a7e",
   "metadata": {},
   "outputs": [],
   "source": [
    "std_volatility = calculate_std_volatility(data)\n",
    "ewma_volatility = calculate_ewma_volatility(data)\n",
    "gjrgarch_volatility = calculate_gjrgarch_volatility(data)"
   ]
  },
  {
   "cell_type": "code",
   "execution_count": 7,
   "id": "d3ba3b65-2c83-47f8-a0b9-e4c1ccdcdbc3",
   "metadata": {},
   "outputs": [
    {
     "ename": "TypeError",
     "evalue": "roll_perceptron_forecast() missing 3 required positional arguments: 'global_counter', 'lock', and 'total_tasks'",
     "output_type": "error",
     "traceback": [
      "\u001b[1;31m---------------------------------------------------------------------------\u001b[0m",
      "\u001b[1;31mTypeError\u001b[0m                                 Traceback (most recent call last)",
      "Cell \u001b[1;32mIn[7], line 1\u001b[0m\n\u001b[1;32m----> 1\u001b[0m forecast \u001b[38;5;241m=\u001b[39m \u001b[43mroll_perceptron_forecast\u001b[49m\u001b[43m(\u001b[49m\u001b[43mstd_volatility\u001b[49m\u001b[43m,\u001b[49m\u001b[43m \u001b[49m\u001b[43mstart_date\u001b[49m\u001b[43m,\u001b[49m\u001b[43m \u001b[49m\u001b[43mend_date\u001b[49m\u001b[43m,\u001b[49m\u001b[43m \u001b[49m\u001b[43mhorizon\u001b[49m\u001b[43m)\u001b[49m\n",
      "\u001b[1;31mTypeError\u001b[0m: roll_perceptron_forecast() missing 3 required positional arguments: 'global_counter', 'lock', and 'total_tasks'"
     ]
    }
   ],
   "source": [
    "forecast = roll_perceptron_forecast(std_volatility, start_date, end_date, horizon)"
   ]
  },
  {
   "cell_type": "code",
   "execution_count": 1,
   "id": "7b59140a-7fc8-4d75-9100-546547c12b2d",
   "metadata": {},
   "outputs": [
    {
     "ename": "NameError",
     "evalue": "name 'forecast' is not defined",
     "output_type": "error",
     "traceback": [
      "\u001b[1;31m---------------------------------------------------------------------------\u001b[0m",
      "\u001b[1;31mNameError\u001b[0m                                 Traceback (most recent call last)",
      "Cell \u001b[1;32mIn[1], line 1\u001b[0m\n\u001b[1;32m----> 1\u001b[0m \u001b[43mforecast\u001b[49m\n",
      "\u001b[1;31mNameError\u001b[0m: name 'forecast' is not defined"
     ]
    }
   ],
   "source": [
    "forecast"
   ]
  },
  {
   "cell_type": "code",
   "execution_count": 7,
   "id": "cb7e9b4e-68f4-4dcb-bd0b-5be0c8e2021a",
   "metadata": {},
   "outputs": [],
   "source": [
    "var = var_vol(forecast, confidence_level)\n",
    "es = expected_shortfall(forecast, confidence_level)\n",
    "real_returns = data['Log Returns'][start_date:end_date].dropna()"
   ]
  },
  {
   "cell_type": "code",
   "execution_count": 8,
   "id": "8af9bf01-219f-4811-a4e5-f7beb15e0314",
   "metadata": {},
   "outputs": [],
   "source": [
    "es_test = EStestRidge(real_returns, lambda: np.random.normal(loc=0, scale=forecast['VOLATILITY'].values, size=len(forecast['VOLATILITY'].values)),\n",
    "                                      1 - confidence_level,\n",
    "                                      var, es, 1000, 1 - confidence_level)"
   ]
  },
  {
   "cell_type": "code",
   "execution_count": 9,
   "id": "ebf0c306-7f23-428b-a6d1-58731d0bb26d",
   "metadata": {},
   "outputs": [
    {
     "data": {
      "text/plain": [
       "(2, -0.030448353693478838)"
      ]
     },
     "execution_count": 9,
     "metadata": {},
     "output_type": "execute_result"
    }
   ],
   "source": [
    "es_test.salida()"
   ]
  },
  {
   "cell_type": "code",
   "execution_count": 10,
   "id": "332848c6-27b8-42f2-9c33-a433193cc89a",
   "metadata": {},
   "outputs": [
    {
     "name": "stdout",
     "output_type": "stream",
     "text": [
      "----------------------------------------------------------------\n",
      "        Ridge Expected Shortfall Test by Simulation             \n",
      "----------------------------------------------------------------\n",
      "Number of observations: 21\n",
      "Number of VaR breaches: 2\n",
      "Expected number of VaR breaches: 0.5250000000000005\n",
      "ES Statistic: -2.6608985409391774\n",
      "Expected ES Statistic under the null hypothesis: 0\n",
      "Critical Value at α = 0.025000000000000022: -3.0931582497850005\n",
      "p-value: 0.06\n",
      "Number of Monte Carlo simulations: 1000\n",
      "----------------------------------------------------------------\n"
     ]
    }
   ],
   "source": [
    "es_test.print()"
   ]
  },
  {
   "cell_type": "code",
   "execution_count": null,
   "id": "317ffac0-0197-4946-b45c-eb1404e01acd",
   "metadata": {},
   "outputs": [],
   "source": []
  }
 ],
 "metadata": {
  "kernelspec": {
   "display_name": "Python 3 (ipykernel)",
   "language": "python",
   "name": "python3"
  },
  "language_info": {
   "codemirror_mode": {
    "name": "ipython",
    "version": 3
   },
   "file_extension": ".py",
   "mimetype": "text/x-python",
   "name": "python",
   "nbconvert_exporter": "python",
   "pygments_lexer": "ipython3",
   "version": "3.10.14"
  }
 },
 "nbformat": 4,
 "nbformat_minor": 5
}
