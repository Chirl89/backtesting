{
 "cells": [
  {
   "cell_type": "code",
   "execution_count": 2,
   "id": "3581d325-94a7-4288-be6c-317ab4fdbfe5",
   "metadata": {},
   "outputs": [],
   "source": [
    "from lib.data.data import Data\n",
    "import numpy as np\n",
    "import gc\n",
    "from lib.auxiliares.esReal import es_real\n",
    "from lib.volatilidades.volatilities import *\n",
    "from lib.volatilidades.rolling_forecast import *"
   ]
  },
  {
   "cell_type": "code",
   "execution_count": 3,
   "id": "791a0798-0a5d-42b0-a7af-84f5e34cb965",
   "metadata": {},
   "outputs": [],
   "source": [
    "# Configuración de parámetros\n",
    "indexes = ['SAN.MC']\n",
    "input_method = 'csv'\n",
    "start_get_data = '2021-07-30'\n",
    "end_get_data = '2024-07-30'\n",
    "start_calculation_date = '2024-06-30'\n",
    "end_calculation_date = '2024-07-30'\n",
    "confidence_level = 0.975\n",
    "horizons = [1, 10]"
   ]
  },
  {
   "cell_type": "code",
   "execution_count": 4,
   "id": "e8aaafa8-0979-4d18-b2e1-7ad57d8bca02",
   "metadata": {},
   "outputs": [],
   "source": [
    "# Inicialización del diccionario\n",
    "index_dict = {item: {} for item in indexes}"
   ]
  },
  {
   "cell_type": "code",
   "execution_count": 5,
   "id": "2ae0fe67-edc9-4015-97be-3cde378b86f3",
   "metadata": {},
   "outputs": [],
   "source": [
    "# Procesamiento de datos y cálculo inicial\n",
    "for index in index_dict:\n",
    "    input_data = Data(index, start_get_data, end_get_data, input_method)\n",
    "    df = input_data.data\n",
    "    df['Log Returns'] = np.log(df['Adj Close'] / df['Adj Close'].shift(1))\n",
    "    df.dropna(inplace=True)\n",
    "    index_dict[index]['Data'] = df\n",
    "    index_dict[index]['ES Real'] = es_real(df, confidence_level, start_calculation_date, end_calculation_date)\n",
    "    index_dict[index]['Volatilities'] = calculate_volatilities(df)"
   ]
  },
  {
   "cell_type": "code",
   "execution_count": null,
   "id": "bbc6e3c9-721e-4e7b-813a-812cbb6bb732",
   "metadata": {},
   "outputs": [
    {
     "name": "stdout",
     "output_type": "stream",
     "text": [
      "Calculando 2 de 22 fechas - Progreso: 4.55%00%"
     ]
    }
   ],
   "source": [
    "# Forecasting\n",
    "for index in index_dict:\n",
    "    forecast_dict = {}\n",
    "    for vol, vol_data in index_dict[index]['Volatilities'].items():\n",
    "        forecast_dict[vol] = {}\n",
    "        for horizon in horizons:\n",
    "            forecast_data = roll_perceptron_forecast(vol_data, start_calculation_date, end_calculation_date, horizon)\n",
    "            forecast_dict[vol][horizon] = {'PERCEPTRON': forecast_data}\n",
    "            del forecast_data\n",
    "            gc.collect()\n",
    "            forecast_data = roll_lstm_forecast(vol_data, start_calculation_date, end_calculation_date, horizon)\n",
    "            forecast_dict[vol][horizon] = {'LSTM': forecast_data}\n",
    "            del forecast_data\n",
    "            gc.collect()\n",
    "            forecast_data = roll_random_forest_forecast(vol_data, start_calculation_date, end_calculation_date, horizon)\n",
    "            forecast_dict[vol][horizon] = {'RANDOM_FOREST': forecast_data}\n",
    "            del forecast_data\n",
    "            gc.collect()\n",
    "            \n",
    "    index_dict[index]['Forecast'] = forecast_dict"
   ]
  },
  {
   "cell_type": "code",
   "execution_count": 11,
   "id": "9112687e-a3f3-4aa3-9138-d408875b8923",
   "metadata": {},
   "outputs": [
    {
     "data": {
      "text/plain": [
       "{'PERCEPTRON':             VOLATILITY\n",
       " Date                  \n",
       " 2024-07-01    0.016268\n",
       " 2024-07-02    0.015625\n",
       " 2024-07-03    0.013971\n",
       " 2024-07-04    0.013628\n",
       " 2024-07-05    0.013519\n",
       " 2024-07-08    0.013124\n",
       " 2024-07-09    0.012984\n",
       " 2024-07-10    0.012782\n",
       " 2024-07-11    0.013802\n",
       " 2024-07-12    0.013351\n",
       " 2024-07-15    0.014742\n",
       " 2024-07-16    0.016268\n",
       " 2024-07-17    0.016803\n",
       " 2024-07-18    0.017761\n",
       " 2024-07-19    0.018383\n",
       " 2024-07-22    0.019107\n",
       " 2024-07-23    0.017175\n",
       " 2024-07-24    0.017627\n",
       " 2024-07-25    0.016963\n",
       " 2024-07-26    0.015913\n",
       " 2024-07-29    0.015365\n",
       " 2024-07-30    0.014693}"
      ]
     },
     "execution_count": 11,
     "metadata": {},
     "output_type": "execute_result"
    }
   ],
   "source": [
    "index_dict['SAN.MC']['Forecast']['EWMA'][10]"
   ]
  }
 ],
 "metadata": {
  "kernelspec": {
   "display_name": "Python 3 (ipykernel)",
   "language": "python",
   "name": "python3"
  },
  "language_info": {
   "codemirror_mode": {
    "name": "ipython",
    "version": 3
   },
   "file_extension": ".py",
   "mimetype": "text/x-python",
   "name": "python",
   "nbconvert_exporter": "python",
   "pygments_lexer": "ipython3",
   "version": "3.10.14"
  }
 },
 "nbformat": 4,
 "nbformat_minor": 5
}
