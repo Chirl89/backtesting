{
 "cells": [
  {
   "cell_type": "code",
   "execution_count": 1,
   "id": "74aa75ed-b338-4a47-a02c-18c00b492ea3",
   "metadata": {},
   "outputs": [],
   "source": [
    "import os\n",
    "import pandas as pd\n",
    "import yfinance as yf\n",
    "from lib.volatilidades.rolling_forecast import calculate_rolling_volatility\n",
    "from lib.auxiliares.VaR import var_vol\n",
    "from lib.auxiliares.esReal import es_real\n",
    "from lib.auxiliares.ES import expected_shortfall\n",
    "from lib.backtest.RidgeBacktest import *\n",
    "from lib.auxiliares.simulateReturns import simulate_returns"
   ]
  },
  {
   "cell_type": "code",
   "execution_count": null,
   "id": "20c98a12-6f63-422c-ad6d-4465bf0823be",
   "metadata": {},
   "outputs": [],
   "source": []
  }
 ],
 "metadata": {
  "kernelspec": {
   "display_name": "Python 3 (ipykernel)",
   "language": "python",
   "name": "python3"
  },
  "language_info": {
   "codemirror_mode": {
    "name": "ipython",
    "version": 3
   },
   "file_extension": ".py",
   "mimetype": "text/x-python",
   "name": "python",
   "nbconvert_exporter": "python",
   "pygments_lexer": "ipython3",
   "version": "3.10.4"
  }
 },
 "nbformat": 4,
 "nbformat_minor": 5
}
