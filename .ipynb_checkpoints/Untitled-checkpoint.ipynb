{
 "cells": [
  {
   "cell_type": "code",
   "execution_count": 1,
   "id": "5442114d-97cf-4c05-8247-1f751c66f59f",
   "metadata": {},
   "outputs": [],
   "source": [
    "from concurrent.futures import ThreadPoolExecutor, as_completed\n",
    "import sys\n",
    "import gc\n",
    "from lib.data.data import Data\n",
    "from lib.data.data_parser import *\n",
    "from lib.auxiliares.esReal import es_real\n",
    "from lib.volatilidades.volatilities import *\n",
    "from lib.volatilidades.rolling_forecast import *\n",
    "from copy import deepcopy\n",
    "from lib.auxiliares.VaR import var_vol\n",
    "from lib.auxiliares.ES import expected_shortfall\n",
    "from lib.backtest.RidgeBacktest import *"
   ]
  },
  {
   "cell_type": "code",
   "execution_count": 3,
   "id": "a64e90ad-11b1-4e5c-8eba-576d26d81fe0",
   "metadata": {},
   "outputs": [],
   "source": [
    "indexes = ['SAN.MC', 'BBVA.MC']\n",
    "input_method = 'csv'\n",
    "start_get_data = '2021-07-30'\n",
    "end_get_data = '2024-07-30'\n",
    "start_calculation_date = '2024-07-25'\n",
    "end_calculation_date = '2024-07-30'\n",
    "confidence_level = 0.975\n",
    "horizons = [1, 10]\n",
    "\n",
    "# Inicialización del diccionario\n",
    "index_dict = {item: {} for item in indexes}\n",
    "forecast_dict = {item: {} for item in indexes}\n",
    "backtest_dict = {item: {} for item in indexes}\n",
    "# Procesamiento de datos y cálculo inicial\n",
    "for index in index_dict:\n",
    "    input_data = Data(index, start_get_data, end_get_data, input_method)\n",
    "    df = input_data.data\n",
    "    df['Log Returns'] = np.log(df['Adj Close'] / df['Adj Close'].shift(1))\n",
    "    df.dropna(inplace=True)\n",
    "    index_dict[index]['Data'] = df\n",
    "    index_dict[index]['ES Real'] = es_real(df, confidence_level, start_calculation_date, end_calculation_date)\n",
    "    index_dict[index]['Volatilities'] = calculate_volatilities(df)\n",
    "    index_dict[index]['Real Returns'] = df['Log Returns'][start_calculation_date:end_calculation_date]"
   ]
  },
  {
   "cell_type": "code",
   "execution_count": 4,
   "id": "667c4b86-8915-40a2-928b-9fc037e63687",
   "metadata": {},
   "outputs": [
    {
     "name": "stdout",
     "output_type": "stream",
     "text": [
      "Progreso global forecasting: 100.00%. Ejecutado con 3/3 volatilidades de 2/2 índices "
     ]
    }
   ],
   "source": [
    "if __name__ == \"__main__\":\n",
    "    run_forecast(index_dict, forecast_dict, start_calculation_date, end_calculation_date, horizons)"
   ]
  },
  {
   "cell_type": "code",
   "execution_count": 5,
   "id": "f473527a-2916-4d19-a39a-aacbc2edb726",
   "metadata": {},
   "outputs": [],
   "source": [
    "# Iterar sobre forecast_dict para calcular y almacenar VAR y ES\n",
    "backtest_dict = {item: {} for item in indexes}\n",
    "for index, volatilities in forecast_dict.items():\n",
    "    for volatility, horizons in volatilities.items():\n",
    "        for horizon, forecast_models in horizons.items():\n",
    "            for model, results in forecast_models.items():\n",
    "                # Verificar si las claves existen en backtest_dict y crearlas si no\n",
    "                if index not in backtest_dict:\n",
    "                    backtest_dict[index] = {}\n",
    "                if volatility not in backtest_dict[index]:\n",
    "                    backtest_dict[index][volatility] = {}\n",
    "                if horizon not in backtest_dict[index][volatility]:\n",
    "                    backtest_dict[index][volatility][horizon] = {}\n",
    "                if model not in backtest_dict[index][volatility][horizon]:\n",
    "                    backtest_dict[index][volatility][horizon][model] = {}\n",
    "\n",
    "                backtest_dict[index][volatility][horizon][model]['BacktestRidge'] = EStestRidge(index_dict[index]['Real Returns'], lambda: np.random.normal(loc=0, scale=forecast_dict[index][volatility][horizon][model]['VOLATILITY'].values, size=len(forecast_dict[index][volatility][horizon][model]['VOLATILITY'].values)),\n",
    "                                      1 - confidence_level,\n",
    "                                      var_vol(forecast_dict[index][volatility][horizon][model], confidence_level), expected_shortfall(forecast_dict[index][volatility][horizon][model], confidence_level), 1000, 1 - confidence_level)\n",
    "                backtest_dict[index][volatility][horizon][model]['BacktestRidge - Salida'] = backtest_dict[index][volatility][horizon][model]['BacktestRidge'].backtest_out()\n",
    "                backtest_dict[index][volatility][horizon][model]['BacktestRidge - Test'] = backtest_dict[index][volatility][horizon][model]['BacktestRidge'].get_results_summary()"
   ]
  },
  {
   "cell_type": "code",
   "execution_count": 14,
   "id": "56689c05-0689-43c5-8d8e-1aa3901c55ed",
   "metadata": {},
   "outputs": [
    {
     "name": "stdout",
     "output_type": "stream",
     "text": [
      "(1, -0.032619805395795065)\n"
     ]
    }
   ],
   "source": [
    "print(backtest_dict['SAN.MC']['STD'][1]['PERCEPTRON']['BacktestRidge - Salida'])"
   ]
  },
  {
   "cell_type": "code",
   "execution_count": 33,
   "id": "0bd5d971-5e0c-4ef0-92d1-2f3e710b9714",
   "metadata": {},
   "outputs": [
    {
     "name": "stdout",
     "output_type": "stream",
     "text": [
      "El archivo se ha guardado en: output\\backtest_results.xlsx\n"
     ]
    }
   ],
   "source": [
    "import os\n",
    "import pandas as pd\n",
    "\n",
    "# Suponiendo que index_dict, forecast_dict, y backtest_dict ya están creados\n",
    "\n",
    "# Crear listas para almacenar los datos estructurados para cada pestaña\n",
    "backtest_ridge_salida_data = []\n",
    "backtest_ridge_test_data = []\n",
    "es_real_data = []\n",
    "volatilities_data = []\n",
    "data_data = []\n",
    "forecast_data = []\n",
    "\n",
    "# Iterar sobre backtest_dict y estructurar los datos\n",
    "for index, volatilities in backtest_dict.items():\n",
    "    for volatility, horizons in volatilities.items():\n",
    "        for horizon, forecast_models in horizons.items():\n",
    "            for model, results in forecast_models.items():\n",
    "                # Separar los valores de 'BacktestRidge - Salida' en dos columnas\n",
    "                excepciones, es = results.get('BacktestRidge - Salida', (None, None))\n",
    "                \n",
    "                # Agregar datos a la lista para la pestaña BacktestRidge - Salida\n",
    "                backtest_ridge_salida_data.append({\n",
    "                    'Index': index,\n",
    "                    'Volatility': volatility,\n",
    "                    'Horizon': horizon,\n",
    "                    'Model': model,\n",
    "                    'Excepciones': excepciones,\n",
    "                    'ES': es\n",
    "                })\n",
    "                \n",
    "                # Agregar datos a la lista para la pestaña BacktestRidge - Test\n",
    "                backtest_ridge_test_data.append({\n",
    "                    'Index': index,\n",
    "                    'Volatility': volatility,\n",
    "                    'Horizon': horizon,\n",
    "                    'Model': model,\n",
    "                    'BacktestRidge - Test': results.get('BacktestRidge - Test', '')\n",
    "                })\n",
    "\n",
    "# Iterar sobre index_dict para crear los datos adicionales\n",
    "for index, content in index_dict.items():\n",
    "    # Data\n",
    "    df = content.get('Data')\n",
    "    if df is not None:\n",
    "        for _, row in df.iterrows():\n",
    "            row_data = row.to_dict()\n",
    "            row_data['Index'] = index\n",
    "            data_data.append(row_data)\n",
    "\n",
    "    # ES Real (separar en dos columnas)\n",
    "    es_real_values = content.get('ES Real')\n",
    "    if es_real_values is not None:\n",
    "        excepciones, es = es_real_values\n",
    "        if not isinstance(excepciones, (list, pd.Series)):\n",
    "            excepciones = [excepciones]\n",
    "        if not isinstance(es, (list, pd.Series)):\n",
    "            es = [es]\n",
    "        for exc, es_val in zip(excepciones, es):\n",
    "            es_real_data.append({\n",
    "                'Index': index,\n",
    "                'Excepciones': exc,\n",
    "                'ES': es_val\n",
    "            })\n",
    "\n",
    "    # Volatilities (mantener el índice y los datos)\n",
    "    volatilities_dict = content.get('Volatilities')\n",
    "    if volatilities_dict is not None:\n",
    "        for vol_name, vol_data in volatilities_dict.items():\n",
    "            vol_data_df = vol_data.reset_index()  # Convertir el índice en columna\n",
    "            vol_data_df.rename(columns={'index': 'Date', vol_data.name: 'Volatility Value'}, inplace=True)\n",
    "            vol_data_df['Index'] = index\n",
    "            vol_data_df['Volatility'] = vol_name\n",
    "            for _, row in vol_data_df.iterrows():\n",
    "                row_data = row.to_dict()\n",
    "                volatilities_data.append(row_data)\n",
    "\n",
    "# Iterar sobre forecast_dict para estructurar los datos\n",
    "for index, volatilities in forecast_dict.items():\n",
    "    for volatility, horizons in volatilities.items():\n",
    "        for horizon, models in horizons.items():\n",
    "            for model_name, forecast_df in models.items():\n",
    "                forecast_df_reset = forecast_df.reset_index()  # Convertir el índice en columna\n",
    "                for _, row in forecast_df_reset.iterrows():\n",
    "                    row_data = row.to_dict()\n",
    "                    row_data['Index'] = index\n",
    "                    row_data['Volatility'] = volatility\n",
    "                    row_data['Horizon'] = horizon\n",
    "                    row_data['Model'] = model_name\n",
    "                    forecast_data.append(row_data)\n",
    "\n",
    "# Convertir las listas en DataFrames\n",
    "df_backtest_ridge_salida = pd.DataFrame(backtest_ridge_salida_data)\n",
    "df_backtest_ridge_test = pd.DataFrame(backtest_ridge_test_data)\n",
    "df_data = pd.DataFrame(data_data)\n",
    "df_es_real = pd.DataFrame(es_real_data)\n",
    "df_volatilities = pd.DataFrame(volatilities_data)\n",
    "df_forecast = pd.DataFrame(forecast_data)\n",
    "\n",
    "# Guardar los DataFrames en un archivo Excel con múltiples hojas\n",
    "output_dir = 'output'\n",
    "output_path = os.path.join(output_dir, 'backtest_results.xlsx')\n",
    "\n",
    "if not os.path.exists(output_dir):\n",
    "    os.makedirs(output_dir)\n",
    "\n",
    "with pd.ExcelWriter(output_path, engine='openpyxl') as writer:\n",
    "    df_backtest_ridge_salida.to_excel(writer, sheet_name='BacktestRidge - Salida', index=False)\n",
    "    df_backtest_ridge_test.to_excel(writer, sheet_name='BacktestRidge - Test', index=False)\n",
    "    df_data.to_excel(writer, sheet_name='Data', index=False)\n",
    "    df_es_real.to_excel(writer, sheet_name='ES Real', index=False)\n",
    "    df_volatilities.to_excel(writer, sheet_name='Volatilities', index=False)\n",
    "    df_forecast.to_excel(writer, sheet_name='Forecast', index=False)  # Nueva pestaña para forecast_dict\n",
    "\n",
    "print(f\"El archivo se ha guardado en: {output_path}\")\n"
   ]
  },
  {
   "cell_type": "code",
   "execution_count": 15,
   "id": "b1e5177f-4c62-424d-b13c-42eea5b7cc9a",
   "metadata": {},
   "outputs": [
    {
     "data": {
      "text/plain": [
       "(-0.007453450654580779, 1)"
      ]
     },
     "execution_count": 15,
     "metadata": {},
     "output_type": "execute_result"
    }
   ],
   "source": [
    "index_dict[index]['ES Real']"
   ]
  },
  {
   "cell_type": "code",
   "execution_count": 31,
   "id": "145fb08e-da2d-4269-a264-d7fe6196a721",
   "metadata": {},
   "outputs": [
    {
     "data": {
      "text/plain": [
       "{'STD': Date\n",
       " 2021-12-17    0.022158\n",
       " 2021-12-20    0.022165\n",
       " 2021-12-21    0.022180\n",
       " 2021-12-22    0.022123\n",
       " 2021-12-23    0.022174\n",
       "                 ...   \n",
       " 2024-07-24    0.018440\n",
       " 2024-07-25    0.018454\n",
       " 2024-07-26    0.018441\n",
       " 2024-07-29    0.018359\n",
       " 2024-07-30    0.018318\n",
       " Name: Log Returns, Length: 669, dtype: float64,\n",
       " 'EWMA': Date\n",
       " 2021-08-02    0.007182\n",
       " 2021-08-03    0.008772\n",
       " 2021-08-04    0.009441\n",
       " 2021-08-05    0.009166\n",
       " 2021-08-06    0.010043\n",
       "                 ...   \n",
       " 2024-07-24    0.013783\n",
       " 2024-07-25    0.013487\n",
       " 2024-07-26    0.013079\n",
       " 2024-07-29    0.012681\n",
       " 2024-07-30    0.012787\n",
       " Name: Log Returns, Length: 768, dtype: float64,\n",
       " 'GJR_GARCH': Date\n",
       " 2021-08-02    0.017072\n",
       " 2021-08-03    0.016354\n",
       " 2021-08-04    0.015741\n",
       " 2021-08-05    0.015222\n",
       " 2021-08-06    0.014867\n",
       "                 ...   \n",
       " 2024-07-24    0.013944\n",
       " 2024-07-25    0.014565\n",
       " 2024-07-26    0.014797\n",
       " 2024-07-29    0.014428\n",
       " 2024-07-30    0.014147\n",
       " Name: cond_vol, Length: 768, dtype: float64}"
      ]
     },
     "execution_count": 31,
     "metadata": {},
     "output_type": "execute_result"
    }
   ],
   "source": [
    "volatilities_dict"
   ]
  }
 ],
 "metadata": {
  "kernelspec": {
   "display_name": "Python 3 (ipykernel)",
   "language": "python",
   "name": "python3"
  },
  "language_info": {
   "codemirror_mode": {
    "name": "ipython",
    "version": 3
   },
   "file_extension": ".py",
   "mimetype": "text/x-python",
   "name": "python",
   "nbconvert_exporter": "python",
   "pygments_lexer": "ipython3",
   "version": "3.10.14"
  }
 },
 "nbformat": 4,
 "nbformat_minor": 5
}
