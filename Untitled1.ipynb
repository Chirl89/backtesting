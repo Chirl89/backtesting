{
 "cells": [
  {
   "cell_type": "code",
   "execution_count": 1,
   "id": "bcf8c344-d7f0-46f1-92c0-67c929451a15",
   "metadata": {},
   "outputs": [],
   "source": [
    "from lib.dicts.index import Index\n",
    "from lib.data.data import Data\n",
    "from lib.data.data_parser import ProcessData\n",
    "from lib.volatilidades.rolling_forecast import *"
   ]
  },
  {
   "cell_type": "code",
   "execution_count": 2,
   "id": "b707bcbf-23e3-4ea4-bdbc-2c7521d70c2b",
   "metadata": {},
   "outputs": [],
   "source": [
    "indexes = ['SAN.MC', 'BBVA.MC']\n",
    "input_method = 'csv'\n",
    "start_get_data = '2021-07-30'\n",
    "end_get_data = '2024-07-30'\n",
    "start_calculation_date = '2024-07-25'\n",
    "end_calculation_date = '2024-07-30'\n",
    "confidence_level = 0.975\n",
    "horizons = [1, 10]"
   ]
  },
  {
   "cell_type": "code",
   "execution_count": 3,
   "id": "f01e0325-3593-48f9-86d6-86b8b1ebb083",
   "metadata": {},
   "outputs": [],
   "source": [
    "index_instance = Index(indexes)\n",
    "data_instance = Data(indexes, start_get_data, end_get_data, input_method)\n",
    "process_data_instance = ProcessData(index_instance, data_instance)"
   ]
  },
  {
   "cell_type": "code",
   "execution_count": 4,
   "id": "6a0af4c7-7a5e-4f18-9643-08f33fc17adf",
   "metadata": {},
   "outputs": [],
   "source": [
    "process_data_instance.fill_index_dict(\n",
    "    confidence_level,\n",
    "    start_calculation_date,\n",
    "    end_calculation_date\n",
    ")"
   ]
  },
  {
   "cell_type": "code",
   "execution_count": 5,
   "id": "995b4293-7003-4fdb-bde0-54f720e401c5",
   "metadata": {},
   "outputs": [],
   "source": [
    "index_dict = index_instance.get_index_dict()\n",
    "forecast_dict = index_instance.get_forecast_dict()"
   ]
  },
  {
   "cell_type": "code",
   "execution_count": null,
   "id": "b5070aff-d4bc-4e0a-ad69-8386a3954869",
   "metadata": {},
   "outputs": [
    {
     "name": "stdout",
     "output_type": "stream",
     "text": [
      "Progreso global forecasting: 25.00%. Ejecutado con 1/3 volatilidades de 1/2 índices "
     ]
    }
   ],
   "source": [
    "if __name__ == \"__main__\":\n",
    "    run_forecast(index_dict, forecast_dict, start_calculation_date, end_calculation_date, horizons)"
   ]
  },
  {
   "cell_type": "code",
   "execution_count": null,
   "id": "e04dee3e-b01d-4ce9-b101-4ca14be401c9",
   "metadata": {},
   "outputs": [],
   "source": []
  }
 ],
 "metadata": {
  "kernelspec": {
   "display_name": "Python 3 (ipykernel)",
   "language": "python",
   "name": "python3"
  },
  "language_info": {
   "codemirror_mode": {
    "name": "ipython",
    "version": 3
   },
   "file_extension": ".py",
   "mimetype": "text/x-python",
   "name": "python",
   "nbconvert_exporter": "python",
   "pygments_lexer": "ipython3",
   "version": "3.10.14"
  }
 },
 "nbformat": 4,
 "nbformat_minor": 5
}
